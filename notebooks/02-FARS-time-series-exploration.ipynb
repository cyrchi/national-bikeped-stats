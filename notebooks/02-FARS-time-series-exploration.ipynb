{
 "cells": [
  {
   "cell_type": "markdown",
   "id": "0c3ae9b0",
   "metadata": {},
   "source": [
    "- access the person file from each year\n",
    "- calculate total fatalities for each group for each year and add to new dataframe\n",
    "- calculate relative fatalities for each group for each year and add to new dataframe\n",
    "\n",
    "- split by race?"
   ]
  }
 ],
 "metadata": {
  "kernelspec": {
   "display_name": "Python 3 (ipykernel)",
   "language": "python",
   "name": "python3"
  },
  "language_info": {
   "codemirror_mode": {
    "name": "ipython",
    "version": 3
   },
   "file_extension": ".py",
   "mimetype": "text/x-python",
   "name": "python",
   "nbconvert_exporter": "python",
   "pygments_lexer": "ipython3",
   "version": "3.9.13"
  }
 },
 "nbformat": 4,
 "nbformat_minor": 5
}
