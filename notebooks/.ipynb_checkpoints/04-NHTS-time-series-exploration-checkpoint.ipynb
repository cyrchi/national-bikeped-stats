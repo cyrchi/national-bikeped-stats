{
 "cells": [
  {
   "cell_type": "markdown",
   "id": "7d98f972",
   "metadata": {},
   "source": [
    "- Data Structure, p.90\n",
    "- Travel concepts, p.372\n",
    "\n",
    "\n",
    "- How do I deal with the big shift in how NHTS data is delivered with NHTS NextGen? ATF is active transportation and ferries; should I just combine those into a single category in the 2011-2017 data?"
   ]
  },
  {
   "cell_type": "code",
   "execution_count": 1,
   "id": "e86ab27f",
   "metadata": {},
   "outputs": [],
   "source": [
    "import pandas as pd\n",
    "import os\n",
    "import sys\n",
    "import matplotlib.pyplot as plt\n",
    "import seaborn as sns\n",
    "\n",
    "# https://stackoverflow.com/questions/34478398/import-local-function-\n",
    "# from-a-module-housed-in-another-directory-with-relative-im\n",
    "module_path = os.path.abspath(os.path.join('..'))\n",
    "if module_path not in sys.path:\n",
    "    sys.path.append(module_path)\n",
    "\n",
    "from src import local_module as local"
   ]
  },
  {
   "cell_type": "markdown",
   "id": "ea121f5b",
   "metadata": {},
   "source": [
    "# Data Caveats\n",
    "\n",
    "- We use the WTTRDFIN column for trip estimates. This column has a somewhat complex definition. That definition changes in the 2020 data (?)"
   ]
  },
  {
   "cell_type": "code",
   "execution_count": 2,
   "id": "4d51b428",
   "metadata": {},
   "outputs": [],
   "source": [
    "# potentiall relevant columns\n",
    "\n",
    "DAY_cols = [\n",
    "    \"TRPTRANS\", # transportation mode on travel day trip\n",
    "    # travel day trip weight for persons in households where at least \n",
    "    # 50 percent of household members 18 and over completed a person interview\n",
    "    \"WTTRDFIN\" \n",
    "]\n",
    "\n",
    "HH_cols = [\n",
    "    \"HHNUMBIK\", # number of full size bicycles in household\n",
    "    \"HHSTFIPS\" # FIPS state code for household\n",
    "]\n",
    "\n",
    "PER_cols = [\n",
    "    \"NBIKETRP\", # number of bike trips in the last week\n",
    "    \"NWALKTRP\", # number of walk trips in the last week\n",
    "    \"DTNOWALK\", # lack of walkways or sidewalks\n",
    "    \"WRKTRANS\" # transportation mode to work last week\n",
    "]"
   ]
  },
  {
   "cell_type": "markdown",
   "id": "c7c7eaef",
   "metadata": {},
   "source": [
    "# 2001 - 2017"
   ]
  },
  {
   "cell_type": "code",
   "execution_count": 3,
   "id": "abbf532d",
   "metadata": {},
   "outputs": [],
   "source": [
    "# list of NHTS years\n",
    "years = [2001, 2009, 2017]\n",
    "\n",
    "# URLs to access NHTS data 2001-2017\n",
    "url_dict = {\n",
    "    2001: \"https://nhts.ornl.gov/2001/download/Ascii.zip\",\n",
    "    2009: \"https://nhts.ornl.gov/2009/download/Ascii.zip\",\n",
    "    2017: \"https://nhts.ornl.gov/assets/2016/download/csv.zip\"\n",
    "}\n",
    "\n",
    "# filenames for trip \n",
    "file_dict = {\n",
    "    2001: \"DAYPUB.csv\",\n",
    "    2009: \"Ascii/DAYV2PUB.CSV\",\n",
    "    2017: \"trippub.csv\"\n",
    "}\n",
    "\n",
    "# dictionaries for the TRPTRANS column\n",
    "\n",
    "# 2001\n",
    "# User Manual B-136 / PDF p.267\n",
    "TRPTRANS_01_dict = {\n",
    "    -1: \"Appropriate Skip\",\n",
    "    -7: \"Refused\",\n",
    "    -8: \"Don't Know\",\n",
    "    -9: \"Not Ascertained\",\n",
    "    1: \"Car\",\n",
    "    2: \"Van\",\n",
    "    3: \"SUV\",\n",
    "    4: \"Pickup truck\",\n",
    "    5: \"Other truck\",\n",
    "    6: \"RV\",\n",
    "    7: \"Motorcycle\",\n",
    "    8: \"Commercial/charter airplane\",\n",
    "    9: \"Private/corporate airplane\",\n",
    "    10: \"Local public transit bus\",\n",
    "    11: \"Commuter bus\",\n",
    "    12: \"School bus\",\n",
    "    13: \"Charter/tour bus\",\n",
    "    14: \"City to city bus\",\n",
    "    15: \"Amtrack/inter city train\",\n",
    "    16: \"Commuter train\",\n",
    "    17: \"Subway/elevated rail\",\n",
    "    18: \"Street car/trolley\",\n",
    "    19: \"Ship/cruise\",\n",
    "    20: \"Passenger line/ferry\",\n",
    "    21: \"Sailboat/motorboat/Yacht\",\n",
    "    22: \"Taxicab\",\n",
    "    23: \"Limousine\",\n",
    "    24: \"Hotel/airport shuttle\",\n",
    "    25: \"Bicycle\", # active transportation\n",
    "    26: \"Walk\", # active transportation\n",
    "    91: \"Other\"\n",
    "}\n",
    "\n",
    "# 2009\n",
    "# Codebook B-83 / PDF p.83\n",
    "TRPTRANS_09_dict = {\n",
    "    -1: \"Appropriate skip\",\n",
    "    -7: \"Refused\", \n",
    "    -8: \"Don't know\", \n",
    "    -9: \"Not ascertained\",\n",
    "    1: \"Car\",\n",
    "    2: \"Van\", \n",
    "    3: \"SUV\", \n",
    "    4: \"Pickup truck\",\n",
    "    5: \"Other truck\",\n",
    "    6: \"RV\",\n",
    "    7: \"Motorcycle\",\n",
    "    8: \"Light electric veh (golf cart)\",\n",
    "    9: \"Local public bus\",\n",
    "    10: \"Commuter bus\",\n",
    "    11: \"School bus\",\n",
    "    12: \"Charter/tour bus\",\n",
    "    13: \"City to city bus\",\n",
    "    14: \"Shuttle bus\",\n",
    "    15: \"Amtrak/inter city train\",\n",
    "    16: \"Commuter train\",\n",
    "    17: \"Subway/elevated train\",\n",
    "    18: \"Street car/trolley\",\n",
    "    19: \"Taxicab\",\n",
    "    20: \"Ferry\",\n",
    "    21: \"Airplane\",\n",
    "    22: \"Bicycle\", # active transportation\n",
    "    23: \"Walk\", # active transportation\n",
    "    24: \"Special transit-people w/disabilities\",\n",
    "    97: \"Other\"                                                                                \n",
    "}\n",
    "\n",
    "# 2017\n",
    "# Codebook PDF p.100\n",
    "TRPTRANS_17_dict = {\n",
    "    -9: \"Not ascertained\",\n",
    "    -8: \"I don't know\", \n",
    "    -7: \"prefer not to answer\",\n",
    "    1: \"Walk\", # active transportation\n",
    "    2: \"Bicycle\", # active transportation\n",
    "    3: \"Car\",\n",
    "    4: \"SUV\",\n",
    "    5: \"Van\",\n",
    "    6: \"Pickup truck\",\n",
    "    7: \"Golf cart / Segway\",\n",
    "    8: \"Motorcycle / Moped\",\n",
    "    9: \"RV (motor home, ATV, snowmobile)\",\n",
    "    10: \"School bus\",\n",
    "    11: \"Public or commuter bus\",\n",
    "    12: \"Paratransit / Dial-a-ride\",\n",
    "    13: \"Private / Charter / Tour / Shuttle bus\",\n",
    "    14: \"City-to-city bus (Greyhound, Megabus)\",\n",
    "    15: \"Amtrak / Commuter rail\",\n",
    "    16: \"Subway / elevated / light rail / street car\",\n",
    "    17: \"Taxi / limo (including Uber / Lyft)\",\n",
    "    18: \"Rental car (Including Zipcar / Car2Go)\",\n",
    "    19: \"Airplane\",\n",
    "    20: \"Boat / ferry / water taxi\", \n",
    "    97: \"Something Else\"\n",
    "}\n",
    "\n",
    "# nested TRPTRANS dictsionaries keyed by year\n",
    "nested = {\n",
    "    2001: TRPTRANS_01_dict,\n",
    "    2009: TRPTRANS_09_dict,\n",
    "    2017: TRPTRANS_17_dict\n",
    "}"
   ]
  },
  {
   "cell_type": "code",
   "execution_count": 4,
   "id": "696cff18",
   "metadata": {},
   "outputs": [
    {
     "name": "stdout",
     "output_type": "stream",
     "text": [
      "2001 complete.\n",
      "2009 complete.\n",
      "2017 complete.\n"
     ]
    }
   ],
   "source": [
    "# calculate trips by mode for each year of NHTS\n",
    "\n",
    "trips = pd.DataFrame() # initialize dataframe\n",
    "\n",
    "for year in years:\n",
    "    \n",
    "    # access url and read trips CSV into dataframe\n",
    "    nhts = local.fetch_multi_csv_zip_from_url(\n",
    "        url= url_dict.get(year), \n",
    "        filenames=[file_dict.get(year)],\n",
    "        low_memory=False # deal with multiple dtypes in one column\n",
    "    )\n",
    "    \n",
    "    # replace TRPTRANS column values\n",
    "    nhts[\"TRPTRANS\"].replace(nested.get(year), inplace=True)\n",
    "    \n",
    "    # group total valid trips by mode according to directions in Travel Concepts\n",
    "    count = nhts.groupby(\"TRPTRANS\")[\"WTTRDFIN\"].sum().reset_index().sort_values(\"WTTRDFIN\", ascending=False)\n",
    "    \n",
    "    # rename columns\n",
    "    count.rename(\n",
    "        columns={\"TRPTRANS\": \"MODE\", \"WTTRDFIN\": str(year)}, \n",
    "        inplace=True\n",
    "    )\n",
    "\n",
    "    # tidy\n",
    "    count = count.melt(\n",
    "        id_vars=\"MODE\",\n",
    "        value_vars=str(year),\n",
    "        var_name=\"YEAR\", \n",
    "        value_name= \"TRIPS\"\n",
    "    )\n",
    "    \n",
    "    # combine into single dataframe\n",
    "    trips = pd.concat([trips, count])\n",
    "    \n",
    "    print(str(year) + \" complete.\")"
   ]
  },
  {
   "cell_type": "code",
   "execution_count": 5,
   "id": "9cfe8766",
   "metadata": {},
   "outputs": [],
   "source": [
    "# resetting and dropping non-unique index\n",
    "# from building dataframe\n",
    "trips.reset_index(inplace=True)\n",
    "trips.drop(columns=\"index\", inplace=True)"
   ]
  },
  {
   "cell_type": "code",
   "execution_count": 6,
   "id": "1d52eeb2",
   "metadata": {},
   "outputs": [
    {
     "data": {
      "text/html": [
       "<div>\n",
       "<style scoped>\n",
       "    .dataframe tbody tr th:only-of-type {\n",
       "        vertical-align: middle;\n",
       "    }\n",
       "\n",
       "    .dataframe tbody tr th {\n",
       "        vertical-align: top;\n",
       "    }\n",
       "\n",
       "    .dataframe thead th {\n",
       "        text-align: right;\n",
       "    }\n",
       "</style>\n",
       "<table border=\"1\" class=\"dataframe\">\n",
       "  <thead>\n",
       "    <tr style=\"text-align: right;\">\n",
       "      <th></th>\n",
       "      <th>MODE</th>\n",
       "      <th>YEAR</th>\n",
       "      <th>TRIPS</th>\n",
       "      <th>P_TRIPS</th>\n",
       "    </tr>\n",
       "  </thead>\n",
       "  <tbody>\n",
       "    <tr>\n",
       "      <th>0</th>\n",
       "      <td>Car</td>\n",
       "      <td>2001</td>\n",
       "      <td>2.003210e+11</td>\n",
       "      <td>4.918721e-01</td>\n",
       "    </tr>\n",
       "    <tr>\n",
       "      <th>1</th>\n",
       "      <td>Van</td>\n",
       "      <td>2001</td>\n",
       "      <td>5.127403e+10</td>\n",
       "      <td>1.258992e-01</td>\n",
       "    </tr>\n",
       "    <tr>\n",
       "      <th>2</th>\n",
       "      <td>SUV</td>\n",
       "      <td>2001</td>\n",
       "      <td>5.068996e+10</td>\n",
       "      <td>1.244651e-01</td>\n",
       "    </tr>\n",
       "    <tr>\n",
       "      <th>3</th>\n",
       "      <td>Pickup truck</td>\n",
       "      <td>2001</td>\n",
       "      <td>4.684039e+10</td>\n",
       "      <td>1.150128e-01</td>\n",
       "    </tr>\n",
       "    <tr>\n",
       "      <th>4</th>\n",
       "      <td>Walk</td>\n",
       "      <td>2001</td>\n",
       "      <td>3.536637e+10</td>\n",
       "      <td>8.683925e-02</td>\n",
       "    </tr>\n",
       "    <tr>\n",
       "      <th>...</th>\n",
       "      <td>...</td>\n",
       "      <td>...</td>\n",
       "      <td>...</td>\n",
       "      <td>...</td>\n",
       "    </tr>\n",
       "    <tr>\n",
       "      <th>79</th>\n",
       "      <td>Boat / ferry / water taxi</td>\n",
       "      <td>2017</td>\n",
       "      <td>1.756186e+08</td>\n",
       "      <td>4.731717e-04</td>\n",
       "    </tr>\n",
       "    <tr>\n",
       "      <th>80</th>\n",
       "      <td>City-to-city bus (Greyhound, Megabus)</td>\n",
       "      <td>2017</td>\n",
       "      <td>6.854286e+07</td>\n",
       "      <td>1.846760e-04</td>\n",
       "    </tr>\n",
       "    <tr>\n",
       "      <th>81</th>\n",
       "      <td>I don't know</td>\n",
       "      <td>2017</td>\n",
       "      <td>6.918375e+06</td>\n",
       "      <td>1.864027e-05</td>\n",
       "    </tr>\n",
       "    <tr>\n",
       "      <th>82</th>\n",
       "      <td>prefer not to answer</td>\n",
       "      <td>2017</td>\n",
       "      <td>2.482589e+05</td>\n",
       "      <td>6.688873e-07</td>\n",
       "    </tr>\n",
       "    <tr>\n",
       "      <th>83</th>\n",
       "      <td>Not ascertained</td>\n",
       "      <td>2017</td>\n",
       "      <td>1.083287e+05</td>\n",
       "      <td>2.918716e-07</td>\n",
       "    </tr>\n",
       "  </tbody>\n",
       "</table>\n",
       "<p>84 rows × 4 columns</p>\n",
       "</div>"
      ],
      "text/plain": [
       "                                     MODE  YEAR         TRIPS       P_TRIPS\n",
       "0                                     Car  2001  2.003210e+11  4.918721e-01\n",
       "1                                     Van  2001  5.127403e+10  1.258992e-01\n",
       "2                                     SUV  2001  5.068996e+10  1.244651e-01\n",
       "3                            Pickup truck  2001  4.684039e+10  1.150128e-01\n",
       "4                                    Walk  2001  3.536637e+10  8.683925e-02\n",
       "..                                    ...   ...           ...           ...\n",
       "79              Boat / ferry / water taxi  2017  1.756186e+08  4.731717e-04\n",
       "80  City-to-city bus (Greyhound, Megabus)  2017  6.854286e+07  1.846760e-04\n",
       "81                           I don't know  2017  6.918375e+06  1.864027e-05\n",
       "82                   prefer not to answer  2017  2.482589e+05  6.688873e-07\n",
       "83                        Not ascertained  2017  1.083287e+05  2.918716e-07\n",
       "\n",
       "[84 rows x 4 columns]"
      ]
     },
     "execution_count": 6,
     "metadata": {},
     "output_type": "execute_result"
    }
   ],
   "source": [
    "# calculate total trips for the year\n",
    "tot_trips = trips.groupby(['YEAR'])['TRIPS'].agg('sum') # series\n",
    "tot_trips_dict = tot_trips.to_dict() # create a dictionary to lookup total trips by year\n",
    "\n",
    "# calculate percentage of total trips for each mode\n",
    "trips[\"P_TRIPS\"] = (trips[\"TRIPS\"] / trips[\"YEAR\"].map(tot_trips_dict))\n",
    "trips"
   ]
  },
  {
   "cell_type": "code",
   "execution_count": 7,
   "id": "ef718ce9",
   "metadata": {},
   "outputs": [],
   "source": [
    "# cut to only walk and bicycle modes\n",
    "trips = trips.loc[(trips[\"MODE\"] ==\"Walk\") | (trips[\"MODE\"] == \"Bicycle\")]"
   ]
  },
  {
   "cell_type": "code",
   "execution_count": 8,
   "id": "aa3c80c5",
   "metadata": {},
   "outputs": [],
   "source": [
    "# set style for plots\n",
    "sns.set_style(\"darkgrid\")"
   ]
  },
  {
   "cell_type": "code",
   "execution_count": 9,
   "id": "542dd645",
   "metadata": {},
   "outputs": [
    {
     "data": {
      "text/plain": [
       "Text(0, 0.5, 'Total Trips')"
      ]
     },
     "execution_count": 9,
     "metadata": {},
     "output_type": "execute_result"
    },
    {
     "data": {
      "image/png": "[encoded data removed]",
      "text/plain": [
       "<Figure size 1080x432 with 1 Axes>"
      ]
     },
     "metadata": {
      "needs_background": "light"
     },
     "output_type": "display_data"
    }
   ],
   "source": [
    "# plot absolute trips over full year range\n",
    "f, ax = plt.subplots(1, figsize=(15,6))\n",
    "\n",
    "sns.lineplot(\n",
    "    data=trips, \n",
    "    x=\"YEAR\", \n",
    "    y=\"TRIPS\", \n",
    "    hue=\"MODE\",\n",
    "    marker=\"o\",\n",
    "    ax=ax\n",
    ")\n",
    "\n",
    "plt.legend(title=\"Trip Type\", fontsize=12)\n",
    "ax.set_title(\"Absolute Trips, 2001-2017\", size=15)\n",
    "ax.set_xlabel(\"Year\", fontsize=12)\n",
    "ax.set_ylabel(\"Total Trips\", fontsize=12)"
   ]
  },
  {
   "cell_type": "code",
   "execution_count": 11,
   "id": "9be39894",
   "metadata": {
    "scrolled": false
   },
   "outputs": [
    {
     "data": {
      "text/plain": [
       "Text(0, 0.5, 'Total Trips')"
      ]
     },
     "execution_count": 11,
     "metadata": {},
     "output_type": "execute_result"
    },
    {
     "data": {
      "image/png": "[encoded data removed]",
      "text/plain": [
       "<Figure size 1080x432 with 1 Axes>"
      ]
     },
     "metadata": {
      "needs_background": "light"
     },
     "output_type": "display_data"
    }
   ],
   "source": [
    "# plot absolute trips over full year range\n",
    "f, ax = plt.subplots(1, figsize=(15,6))\n",
    "\n",
    "sns.lineplot(\n",
    "    data=trips, \n",
    "    x=\"YEAR\", \n",
    "    y=\"P_TRIPS\", \n",
    "    hue=\"MODE\",\n",
    "    marker=\"o\",\n",
    "    ax=ax\n",
    ")\n",
    "\n",
    "plt.legend(title=\"Trip Type\", fontsize=12)\n",
    "ax.set_title(\"Percent of Trips, 2001-2017\", size=15)\n",
    "ax.set_xlabel(\"Year\", fontsize=12)\n",
    "ax.set_ylabel(\"Total Trips\", fontsize=12)"
   ]
  },
  {
   "cell_type": "markdown",
   "id": "6899aff6",
   "metadata": {},
   "source": [
    "# 2020"
   ]
  },
  {
   "cell_type": "code",
   "execution_count": null,
   "id": "35d86bce",
   "metadata": {},
   "outputs": [],
   "source": []
  }
 ],
 "metadata": {
  "kernelspec": {
   "display_name": "Python 3 (ipykernel)",
   "language": "python",
   "name": "python3"
  },
  "language_info": {
   "codemirror_mode": {
    "name": "ipython",
    "version": 3
   },
   "file_extension": ".py",
   "mimetype": "text/x-python",
   "name": "python",
   "nbconvert_exporter": "python",
   "pygments_lexer": "ipython3",
   "version": "3.9.13"
  }
 },
 "nbformat": 4,
 "nbformat_minor": 5
}
