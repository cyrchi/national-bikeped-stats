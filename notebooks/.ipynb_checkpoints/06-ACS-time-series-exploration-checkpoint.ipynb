{
 "cells": [
  {
   "cell_type": "code",
   "execution_count": 1,
   "id": "4934d5df",
   "metadata": {},
   "outputs": [],
   "source": [
    "import requests\n",
    "import os\n",
    "import sys\n",
    "import pandas as pd\n",
    "import geopandas as gp\n",
    "import matplotlib.pyplot as plt\n",
    "import seaborn as sns\n",
    "\n",
    "# https://stackoverflow.com/questions/34478398/import-local-function-\n",
    "# from-a-module-housed-in-another-directory-with-relative-im\n",
    "module_path = os.path.abspath(os.path.join('..'))\n",
    "if module_path not in sys.path:\n",
    "    sys.path.append(module_path)\n",
    "\n",
    "from src import local_module as local"
   ]
  },
  {
   "cell_type": "markdown",
   "id": "288751ef",
   "metadata": {},
   "source": [
    "# Data Caveats\n",
    "- Not sure which estimates to use, 1, 3, or 5-year: https://www.census.gov/content/dam/Census/library/publications/2018/acs/acs_general_handbook_2018_ch03.pdf\n",
    "- "
   ]
  },
  {
   "cell_type": "code",
   "execution_count": 2,
   "id": "ed812687",
   "metadata": {
    "scrolled": true
   },
   "outputs": [],
   "source": [
    "# list of ACS 1-year years\n",
    "years = list(range(2006, 2021))"
   ]
  },
  {
   "cell_type": "code",
   "execution_count": 3,
   "id": "0b09afb3",
   "metadata": {
    "scrolled": true
   },
   "outputs": [
    {
     "name": "stdout",
     "output_type": "stream",
     "text": [
      "2006\n",
      "2007\n",
      "2008\n",
      "2009\n",
      "2010\n",
      "2011\n",
      "2012\n",
      "2013\n",
      "2014\n",
      "2015\n",
      "2016\n",
      "2017\n",
      "2018\n",
      "2019\n"
     ]
    }
   ],
   "source": [
    "means_transpo = pd.DataFrame() # initialize dataframe\n",
    "\n",
    "for year in years:\n",
    "    # Census did not release 1-year estimates for 2020\n",
    "    # https://www.census.gov/data/developers/data-sets/acs-1year.2020.html\n",
    "    if year == 2020:\n",
    "        pass\n",
    "    else:\n",
    "        # build API call\n",
    "        url = \"https://api.census.gov/data/{0}/acs/acs1?get=B08301_001E,B08301_018E,B08301_019E&for=us:*\".format(year)\n",
    "\n",
    "        # make API call\n",
    "        response = requests.request(\"GET\", url)\n",
    "\n",
    "        # reformat API response into dataframe\n",
    "        df = local.json_to_dataframe(response)\n",
    "\n",
    "        df[\"YEAR\"] = year\n",
    "\n",
    "        # combine into single dataframe\n",
    "        means_transpo = pd.concat([means_transpo, df])\n",
    "        print(year)"
   ]
  },
  {
   "cell_type": "code",
   "execution_count": 4,
   "id": "53acbbe1",
   "metadata": {
    "scrolled": false
   },
   "outputs": [
    {
     "data": {
      "text/html": [
       "<div>\n",
       "<style scoped>\n",
       "    .dataframe tbody tr th:only-of-type {\n",
       "        vertical-align: middle;\n",
       "    }\n",
       "\n",
       "    .dataframe tbody tr th {\n",
       "        vertical-align: top;\n",
       "    }\n",
       "\n",
       "    .dataframe thead th {\n",
       "        text-align: right;\n",
       "    }\n",
       "</style>\n",
       "<table border=\"1\" class=\"dataframe\">\n",
       "  <thead>\n",
       "    <tr style=\"text-align: right;\">\n",
       "      <th></th>\n",
       "      <th>B08301_001E</th>\n",
       "      <th>B08301_018E</th>\n",
       "      <th>B08301_019E</th>\n",
       "      <th>us</th>\n",
       "      <th>YEAR</th>\n",
       "    </tr>\n",
       "  </thead>\n",
       "  <tbody>\n",
       "    <tr>\n",
       "      <th>0</th>\n",
       "      <td>138265905</td>\n",
       "      <td>623039</td>\n",
       "      <td>3951534</td>\n",
       "      <td>1</td>\n",
       "      <td>2006</td>\n",
       "    </tr>\n",
       "    <tr>\n",
       "      <th>0</th>\n",
       "      <td>139259684</td>\n",
       "      <td>664859</td>\n",
       "      <td>3954210</td>\n",
       "      <td>1</td>\n",
       "      <td>2007</td>\n",
       "    </tr>\n",
       "    <tr>\n",
       "      <th>0</th>\n",
       "      <td>143995967</td>\n",
       "      <td>786098</td>\n",
       "      <td>4060994</td>\n",
       "      <td>1</td>\n",
       "      <td>2008</td>\n",
       "    </tr>\n",
       "    <tr>\n",
       "      <th>0</th>\n",
       "      <td>138591804</td>\n",
       "      <td>765703</td>\n",
       "      <td>3965659</td>\n",
       "      <td>1</td>\n",
       "      <td>2009</td>\n",
       "    </tr>\n",
       "    <tr>\n",
       "      <th>0</th>\n",
       "      <td>136941010</td>\n",
       "      <td>731286</td>\n",
       "      <td>3797048</td>\n",
       "      <td>1</td>\n",
       "      <td>2010</td>\n",
       "    </tr>\n",
       "  </tbody>\n",
       "</table>\n",
       "</div>"
      ],
      "text/plain": [
       "  B08301_001E B08301_018E B08301_019E us  YEAR\n",
       "0   138265905      623039     3951534  1  2006\n",
       "0   139259684      664859     3954210  1  2007\n",
       "0   143995967      786098     4060994  1  2008\n",
       "0   138591804      765703     3965659  1  2009\n",
       "0   136941010      731286     3797048  1  2010"
      ]
     },
     "execution_count": 4,
     "metadata": {},
     "output_type": "execute_result"
    }
   ],
   "source": [
    "means_transpo.head()"
   ]
  },
  {
   "cell_type": "code",
   "execution_count": 5,
   "id": "f74078fb",
   "metadata": {},
   "outputs": [
    {
     "data": {
      "text/html": [
       "<div>\n",
       "<style scoped>\n",
       "    .dataframe tbody tr th:only-of-type {\n",
       "        vertical-align: middle;\n",
       "    }\n",
       "\n",
       "    .dataframe tbody tr th {\n",
       "        vertical-align: top;\n",
       "    }\n",
       "\n",
       "    .dataframe thead th {\n",
       "        text-align: right;\n",
       "    }\n",
       "</style>\n",
       "<table border=\"1\" class=\"dataframe\">\n",
       "  <thead>\n",
       "    <tr style=\"text-align: right;\">\n",
       "      <th></th>\n",
       "      <th>us</th>\n",
       "      <th>YEAR</th>\n",
       "      <th>TOTAL</th>\n",
       "      <th>BICYCLE</th>\n",
       "      <th>WALKED</th>\n",
       "    </tr>\n",
       "  </thead>\n",
       "  <tbody>\n",
       "    <tr>\n",
       "      <th>0</th>\n",
       "      <td>1</td>\n",
       "      <td>2006</td>\n",
       "      <td>138265905</td>\n",
       "      <td>623039</td>\n",
       "      <td>3951534</td>\n",
       "    </tr>\n",
       "    <tr>\n",
       "      <th>0</th>\n",
       "      <td>1</td>\n",
       "      <td>2007</td>\n",
       "      <td>139259684</td>\n",
       "      <td>664859</td>\n",
       "      <td>3954210</td>\n",
       "    </tr>\n",
       "    <tr>\n",
       "      <th>0</th>\n",
       "      <td>1</td>\n",
       "      <td>2008</td>\n",
       "      <td>143995967</td>\n",
       "      <td>786098</td>\n",
       "      <td>4060994</td>\n",
       "    </tr>\n",
       "    <tr>\n",
       "      <th>0</th>\n",
       "      <td>1</td>\n",
       "      <td>2009</td>\n",
       "      <td>138591804</td>\n",
       "      <td>765703</td>\n",
       "      <td>3965659</td>\n",
       "    </tr>\n",
       "    <tr>\n",
       "      <th>0</th>\n",
       "      <td>1</td>\n",
       "      <td>2010</td>\n",
       "      <td>136941010</td>\n",
       "      <td>731286</td>\n",
       "      <td>3797048</td>\n",
       "    </tr>\n",
       "  </tbody>\n",
       "</table>\n",
       "</div>"
      ],
      "text/plain": [
       "  us  YEAR      TOTAL  BICYCLE   WALKED\n",
       "0  1  2006  138265905   623039  3951534\n",
       "0  1  2007  139259684   664859  3954210\n",
       "0  1  2008  143995967   786098  4060994\n",
       "0  1  2009  138591804   765703  3965659\n",
       "0  1  2010  136941010   731286  3797048"
      ]
     },
     "execution_count": 5,
     "metadata": {},
     "output_type": "execute_result"
    }
   ],
   "source": [
    "# clean up dataframe\n",
    "\n",
    "# https://api.census.gov/data/2020/acs/acs5/variables.html\n",
    "var_dict = {\n",
    "    \"B08301_001E\": \"TOTAL\",\n",
    "    \"B08301_018E\": \"BICYCLE\",\n",
    "    \"B08301_019E\": \"WALKED\"\n",
    "}\n",
    "\n",
    "# recast type\n",
    "for var in list(var_dict.keys()):\n",
    "    means_transpo[var] = means_transpo[var].astype(int)\n",
    "    \n",
    "# rename columns\n",
    "means_transpo.rename(columns=var_dict, inplace=True)\n",
    "\n",
    "# reorder columns\n",
    "cols = ['us','YEAR', 'TOTAL','BICYCLE','WALKED']\n",
    "means_transpo = means_transpo[cols]\n",
    "\n",
    "means_transpo.head()"
   ]
  },
  {
   "cell_type": "code",
   "execution_count": 6,
   "id": "92fb309e",
   "metadata": {},
   "outputs": [],
   "source": [
    "# create a dictionary of the total trips\n",
    "keys = list(means_transpo[\"YEAR\"])\n",
    "values = list(means_transpo[\"TOTAL\"])\n",
    "tot_trips_dict = {keys[i]:values[i] for i in range(len(keys))}"
   ]
  },
  {
   "cell_type": "code",
   "execution_count": 7,
   "id": "b475c84e",
   "metadata": {},
   "outputs": [],
   "source": [
    "means_transpo = means_transpo[[\"YEAR\",\"BICYCLE\", \"WALKED\"]]"
   ]
  },
  {
   "cell_type": "code",
   "execution_count": 8,
   "id": "3deab53b",
   "metadata": {},
   "outputs": [],
   "source": [
    "means_transpo = means_transpo.melt(\n",
    "    id_vars=\"YEAR\",\n",
    "    value_vars=[\"BICYCLE\", \"WALKED\"],\n",
    "    var_name=\"MODE\",\n",
    "    value_name=\"TRIPS\"\n",
    ")"
   ]
  },
  {
   "cell_type": "code",
   "execution_count": 9,
   "id": "88fab68e",
   "metadata": {
    "scrolled": true
   },
   "outputs": [],
   "source": [
    "# calculate relative columns\n",
    "means_transpo[\"P_TRIPS\"] = means_transpo[\"TRIPS\"] / means_transpo[\"YEAR\"].map(tot_trips_dict)"
   ]
  },
  {
   "cell_type": "code",
   "execution_count": 10,
   "id": "aa6ed386",
   "metadata": {},
   "outputs": [],
   "source": [
    "# set style for plots\n",
    "sns.set_style(\"darkgrid\")"
   ]
  },
  {
   "cell_type": "code",
   "execution_count": 11,
   "id": "2687fd5e",
   "metadata": {},
   "outputs": [
    {
     "data": {
      "text/plain": [
       "Text(0, 0.5, 'Total')"
      ]
     },
     "execution_count": 11,
     "metadata": {},
     "output_type": "execute_result"
    },
    {
     "data": {
      "image/png": "[encoded data removed]",
      "text/plain": [
       "<Figure size 1080x432 with 1 Axes>"
      ]
     },
     "metadata": {
      "needs_background": "light"
     },
     "output_type": "display_data"
    }
   ],
   "source": [
    "# plot absolute trips over full year range\n",
    "f, ax = plt.subplots(1, figsize=(15,6))\n",
    "\n",
    "sns.lineplot(\n",
    "    data=means_transpo, \n",
    "    x=\"YEAR\", \n",
    "    y=\"TRIPS\", \n",
    "    hue=\"MODE\",\n",
    "    marker=\"o\",\n",
    "    ax=ax\n",
    ")\n",
    "\n",
    "plt.legend(title=\"Trip Type\", fontsize=12)\n",
    "ax.set_title(\"Absolute Means of Transportation to Work, 2006-2020\", size=15)\n",
    "ax.set_xlabel(\"Year\", fontsize=12)\n",
    "ax.set_ylabel(\"Total\", fontsize=12)"
   ]
  },
  {
   "cell_type": "code",
   "execution_count": 12,
   "id": "bb11a19f",
   "metadata": {},
   "outputs": [
    {
     "data": {
      "text/plain": [
       "Text(0, 0.5, 'Percent')"
      ]
     },
     "execution_count": 12,
     "metadata": {},
     "output_type": "execute_result"
    },
    {
     "data": {
      "image/png": "[encoded data removed]",
      "text/plain": [
       "<Figure size 1080x432 with 1 Axes>"
      ]
     },
     "metadata": {
      "needs_background": "light"
     },
     "output_type": "display_data"
    }
   ],
   "source": [
    "# plot absolute trips over full year range\n",
    "f, ax = plt.subplots(1, figsize=(15,6))\n",
    "\n",
    "sns.lineplot(\n",
    "    data=means_transpo, \n",
    "    x=\"YEAR\", \n",
    "    y=\"P_TRIPS\", \n",
    "    hue=\"MODE\",\n",
    "    marker=\"o\",\n",
    "    ax=ax\n",
    ")\n",
    "\n",
    "plt.legend(title=\"Trip Type\", fontsize=12)\n",
    "ax.set_title(\"Relative Means of Transportation to Work, 2006-2020\", size=15)\n",
    "ax.set_xlabel(\"Year\", fontsize=12)\n",
    "ax.set_ylabel(\"Percent\", fontsize=12)"
   ]
  },
  {
   "cell_type": "markdown",
   "id": "1b119fc5",
   "metadata": {},
   "source": [
    "# Products"
   ]
  },
  {
   "cell_type": "code",
   "execution_count": 13,
   "id": "5abc3f7f",
   "metadata": {},
   "outputs": [
    {
     "data": {
      "text/html": [
       "<div>\n",
       "<style scoped>\n",
       "    .dataframe tbody tr th:only-of-type {\n",
       "        vertical-align: middle;\n",
       "    }\n",
       "\n",
       "    .dataframe tbody tr th {\n",
       "        vertical-align: top;\n",
       "    }\n",
       "\n",
       "    .dataframe thead th {\n",
       "        text-align: right;\n",
       "    }\n",
       "</style>\n",
       "<table border=\"1\" class=\"dataframe\">\n",
       "  <thead>\n",
       "    <tr style=\"text-align: right;\">\n",
       "      <th></th>\n",
       "      <th>YEAR</th>\n",
       "      <th>MODE</th>\n",
       "      <th>TRIPS</th>\n",
       "      <th>P_TRIPS</th>\n",
       "    </tr>\n",
       "  </thead>\n",
       "  <tbody>\n",
       "    <tr>\n",
       "      <th>0</th>\n",
       "      <td>2006</td>\n",
       "      <td>BICYCLE</td>\n",
       "      <td>623039</td>\n",
       "      <td>0.004506</td>\n",
       "    </tr>\n",
       "    <tr>\n",
       "      <th>1</th>\n",
       "      <td>2007</td>\n",
       "      <td>BICYCLE</td>\n",
       "      <td>664859</td>\n",
       "      <td>0.004774</td>\n",
       "    </tr>\n",
       "    <tr>\n",
       "      <th>2</th>\n",
       "      <td>2008</td>\n",
       "      <td>BICYCLE</td>\n",
       "      <td>786098</td>\n",
       "      <td>0.005459</td>\n",
       "    </tr>\n",
       "    <tr>\n",
       "      <th>3</th>\n",
       "      <td>2009</td>\n",
       "      <td>BICYCLE</td>\n",
       "      <td>765703</td>\n",
       "      <td>0.005525</td>\n",
       "    </tr>\n",
       "    <tr>\n",
       "      <th>4</th>\n",
       "      <td>2010</td>\n",
       "      <td>BICYCLE</td>\n",
       "      <td>731286</td>\n",
       "      <td>0.005340</td>\n",
       "    </tr>\n",
       "  </tbody>\n",
       "</table>\n",
       "</div>"
      ],
      "text/plain": [
       "   YEAR     MODE   TRIPS   P_TRIPS\n",
       "0  2006  BICYCLE  623039  0.004506\n",
       "1  2007  BICYCLE  664859  0.004774\n",
       "2  2008  BICYCLE  786098  0.005459\n",
       "3  2009  BICYCLE  765703  0.005525\n",
       "4  2010  BICYCLE  731286  0.005340"
      ]
     },
     "execution_count": 13,
     "metadata": {},
     "output_type": "execute_result"
    }
   ],
   "source": [
    "means_transpo.head()"
   ]
  }
 ],
 "metadata": {
  "kernelspec": {
   "display_name": "Python 3 (ipykernel)",
   "language": "python",
   "name": "python3"
  },
  "language_info": {
   "codemirror_mode": {
    "name": "ipython",
    "version": 3
   },
   "file_extension": ".py",
   "mimetype": "text/x-python",
   "name": "python",
   "nbconvert_exporter": "python",
   "pygments_lexer": "ipython3",
   "version": "3.9.13"
  }
 },
 "nbformat": 4,
 "nbformat_minor": 5
}
